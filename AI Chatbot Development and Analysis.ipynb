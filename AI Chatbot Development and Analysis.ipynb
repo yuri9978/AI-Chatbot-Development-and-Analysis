{
 "cells": [
  {
   "cell_type": "code",
   "execution_count": 1,
   "id": "0d79f084",
   "metadata": {},
   "outputs": [],
   "source": [
    "import random\n",
    "import nltk\n",
    "from nltk.tokenize import word_tokenize\n",
    "from nltk.corpus import stopwords\n",
    "from collections import Counter\n",
    "import matplotlib.pyplot as plt"
   ]
  },
  {
   "cell_type": "code",
   "execution_count": 2,
   "id": "483475d9",
   "metadata": {},
   "outputs": [
    {
     "name": "stderr",
     "output_type": "stream",
     "text": [
      "[nltk_data] Downloading package punkt to\n",
      "[nltk_data]     C:\\Users\\Yuri\\AppData\\Roaming\\nltk_data...\n",
      "[nltk_data]   Package punkt is already up-to-date!\n",
      "[nltk_data] Downloading package stopwords to\n",
      "[nltk_data]     C:\\Users\\Yuri\\AppData\\Roaming\\nltk_data...\n",
      "[nltk_data]   Package stopwords is already up-to-date!\n"
     ]
    },
    {
     "data": {
      "text/plain": [
       "True"
      ]
     },
     "execution_count": 2,
     "metadata": {},
     "output_type": "execute_result"
    }
   ],
   "source": [
    "# Download necessary NLTK data\n",
    "nltk.download('punkt')\n",
    "nltk.download('stopwords')"
   ]
  },
  {
   "cell_type": "code",
   "execution_count": null,
   "id": "89a02593",
   "metadata": {},
   "outputs": [
    {
     "name": "stdout",
     "output_type": "stream",
     "text": [
      "AI Chatbot: Hello! How can I assist you today? (Type 'quit' to exit)\n",
      "You: how are you?\n",
      "AI Chatbot: I'm doing well, thanks!\n",
      "You: bye\n",
      "AI Chatbot: Goodbye!\n"
     ]
    }
   ],
   "source": [
    "# Simple responses for the chatbot\n",
    "responses = {\n",
    "    \"hello\": [\"Hi there!\", \"Hello!\", \"Greetings!\"],\n",
    "    \"how are you\": [\"I'm doing well, thanks!\", \"I'm fine, how about you?\"],\n",
    "    \"bye\": [\"Goodbye!\", \"See you later!\", \"Take care!\"],\n",
    "    \"default\": [\"I'm not sure how to respond to that.\", \"Could you please rephrase that?\", \"Interesting, tell me more.\"]\n",
    "}\n",
    "\n",
    "def chatbot_response(user_input):\n",
    "    user_input = user_input.lower()\n",
    "    for key in responses:\n",
    "        if key in user_input:\n",
    "            return random.choice(responses[key])\n",
    "    return random.choice(responses[\"default\"])\n",
    "\n",
    "def analyze_user_input(user_input):\n",
    "    tokens = word_tokenize(user_input.lower())\n",
    "    stop_words = set(stopwords.words('english'))\n",
    "    filtered_tokens = [word for word in tokens if word.isalnum() and word not in stop_words]\n",
    "    return Counter(filtered_tokens)\n",
    "\n",
    "def generate_report(interaction_history):\n",
    "    word_freq = Counter()\n",
    "    for interaction in interaction_history:\n",
    "        word_freq.update(analyze_user_input(interaction['user_input']))\n",
    "    \n",
    "    plt.figure(figsize=(10, 5))\n",
    "    plt.bar(dict(word_freq.most_common(10)).keys(), dict(word_freq.most_common(10)).values())\n",
    "    plt.title('Top 10 Words in User Interactions')\n",
    "    plt.xlabel('Words')\n",
    "    plt.ylabel('Frequency')\n",
    "    plt.xticks(rotation=45)\n",
    "    plt.tight_layout()\n",
    "    plt.savefig('user_interaction_analysis.png')\n",
    "    plt.close()\n",
    "\n",
    "    print(\"Report generated. Check 'user_interaction_analysis.png' for visualization.\")\n",
    "\n",
    "def main():\n",
    "    print(\"AI Chatbot: Hello! How can I assist you today? (Type 'quit' to exit)\")\n",
    "    interaction_history = []\n",
    "    \n",
    "    while True:\n",
    "        user_input = input(\"You: \")\n",
    "        if user_input.lower() == 'quit':\n",
    "            break\n",
    "        \n",
    "        response = chatbot_response(user_input)\n",
    "        print(\"AI Chatbot:\", response)\n",
    "        \n",
    "        interaction_history.append({\n",
    "            'user_input': user_input,\n",
    "            'chatbot_response': response\n",
    "        })\n",
    "    \n",
    "    print(\"\\nGenerating interaction report...\")\n",
    "    generate_report(interaction_history)\n",
    "\n",
    "if __name__ == \"__main__\":\n",
    "    main()"
   ]
  },
  {
   "cell_type": "code",
   "execution_count": null,
   "id": "8aff7953",
   "metadata": {},
   "outputs": [],
   "source": []
  }
 ],
 "metadata": {
  "kernelspec": {
   "display_name": "Python 3 (ipykernel)",
   "language": "python",
   "name": "python3"
  },
  "language_info": {
   "codemirror_mode": {
    "name": "ipython",
    "version": 3
   },
   "file_extension": ".py",
   "mimetype": "text/x-python",
   "name": "python",
   "nbconvert_exporter": "python",
   "pygments_lexer": "ipython3",
   "version": "3.9.12"
  }
 },
 "nbformat": 4,
 "nbformat_minor": 5
}
